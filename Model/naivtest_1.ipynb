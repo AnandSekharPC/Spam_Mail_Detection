{
 "cells": [
  {
   "cell_type": "code",
   "execution_count": 35,
   "metadata": {},
   "outputs": [],
   "source": [
    "import numpy as np\n",
    "import pandas as pd\n",
    "from sklearn.model_selection import train_test_split\n",
    "from sklearn.feature_extraction.text import TfidfVectorizer\n",
    "from sklearn.metrics import accuracy_score, classification_report\n",
    "from sklearn.preprocessing import StandardScaler\n",
    "from sklearn.naive_bayes import MultinomialNB"
   ]
  },
  {
   "cell_type": "code",
   "execution_count": 36,
   "metadata": {},
   "outputs": [],
   "source": [
    "# --- Custom Naive Bayes ---\n",
    "class NaiveBayesModel:\n",
    "    def __init__(self, alpha=1.0):\n",
    "        self.alpha = alpha\n",
    "        self.class_log_prior_ = None\n",
    "        self.feature_log_prob_ = None\n",
    "\n",
    "    def fit(self, X, y):\n",
    "        n_samples, n_features = X.shape\n",
    "        self.classes = np.unique(y)\n",
    "        n_classes = len(self.classes)\n",
    "        \n",
    "        # Initialize log-prior and log-likelihood probabilities\n",
    "        self.class_log_prior_ = np.zeros(n_classes)\n",
    "        self.feature_log_prob_ = np.zeros((n_classes, n_features))\n",
    "        \n",
    "        # Loop over each class and compute the likelihood and prior\n",
    "        for idx, c in enumerate(self.classes):\n",
    "            X_c = X[y == c]\n",
    "            self.class_log_prior_[idx] = np.log(X_c.shape[0] / n_samples)\n",
    "            total_word_count = X_c.sum(axis=0) + self.alpha\n",
    "            total_class_word_count = total_word_count.sum()\n",
    "            self.feature_log_prob_[idx, :] = np.log(total_word_count / total_class_word_count)\n",
    "\n",
    "    def predict(self, X):\n",
    "        log_probs = (X @ self.feature_log_prob_.T) + self.class_log_prior_\n",
    "        return np.argmax(log_probs, axis=1)"
   ]
  },
  {
   "cell_type": "code",
   "execution_count": 37,
   "metadata": {},
   "outputs": [],
   "source": [
    "# Load dataset\n",
    "file_path = r'C:\\\\Users\\\\anand\\\\Downloads\\\\minorprjct\\\\Data_set\\\\mail_data.csv'\n",
    "mail_data = pd.read_csv(file_path)\n"
   ]
  },
  {
   "cell_type": "code",
   "execution_count": 38,
   "metadata": {},
   "outputs": [],
   "source": [
    "# Check for missing values and convert labels to binary\n",
    "mail_data['Category'] = mail_data['Category'].map({'ham': 0, 'spam': 1})"
   ]
  },
  {
   "cell_type": "code",
   "execution_count": 39,
   "metadata": {},
   "outputs": [
    {
     "data": {
      "text/plain": [
       "<bound method NDFrame.head of       Category                                            Message\n",
       "0            0  Go until jurong point, crazy.. Available only ...\n",
       "1            0                      Ok lar... Joking wif u oni...\n",
       "2            1  Free entry in 2 a wkly comp to win FA Cup fina...\n",
       "3            0  U dun say so early hor... U c already then say...\n",
       "4            0  Nah I don't think he goes to usf, he lives aro...\n",
       "...        ...                                                ...\n",
       "5567         1  This is the 2nd time we have tried 2 contact u...\n",
       "5568         0               Will ü b going to esplanade fr home?\n",
       "5569         0  Pity, * was in mood for that. So...any other s...\n",
       "5570         0  The guy did some bitching but I acted like i'd...\n",
       "5571         0                         Rofl. Its true to its name\n",
       "\n",
       "[5572 rows x 2 columns]>"
      ]
     },
     "execution_count": 39,
     "metadata": {},
     "output_type": "execute_result"
    }
   ],
   "source": [
    "mail_data.head"
   ]
  },
  {
   "cell_type": "code",
   "execution_count": 40,
   "metadata": {},
   "outputs": [
    {
     "data": {
      "text/plain": [
       "(5572, 2)"
      ]
     },
     "execution_count": 40,
     "metadata": {},
     "output_type": "execute_result"
    }
   ],
   "source": [
    "# checking the number of rows and columns in the dataframe\n",
    "mail_data.shape"
   ]
  },
  {
   "cell_type": "code",
   "execution_count": 41,
   "metadata": {},
   "outputs": [],
   "source": [
    "# Split data into features and target\n",
    "X = mail_data['Message']\n",
    "y = mail_data['Category']"
   ]
  },
  {
   "cell_type": "code",
   "execution_count": 42,
   "metadata": {},
   "outputs": [
    {
     "name": "stdout",
     "output_type": "stream",
     "text": [
      "0       Go until jurong point, crazy.. Available only ...\n",
      "1                           Ok lar... Joking wif u oni...\n",
      "2       Free entry in 2 a wkly comp to win FA Cup fina...\n",
      "3       U dun say so early hor... U c already then say...\n",
      "4       Nah I don't think he goes to usf, he lives aro...\n",
      "                              ...                        \n",
      "5567    This is the 2nd time we have tried 2 contact u...\n",
      "5568                 Will ü b going to esplanade fr home?\n",
      "5569    Pity, * was in mood for that. So...any other s...\n",
      "5570    The guy did some bitching but I acted like i'd...\n",
      "5571                           Rofl. Its true to its name\n",
      "Name: Message, Length: 5572, dtype: object\n"
     ]
    }
   ],
   "source": [
    "print(X)"
   ]
  },
  {
   "cell_type": "code",
   "execution_count": 43,
   "metadata": {},
   "outputs": [
    {
     "name": "stdout",
     "output_type": "stream",
     "text": [
      "0       0\n",
      "1       0\n",
      "2       1\n",
      "3       0\n",
      "4       0\n",
      "       ..\n",
      "5567    1\n",
      "5568    0\n",
      "5569    0\n",
      "5570    0\n",
      "5571    0\n",
      "Name: Category, Length: 5572, dtype: int64\n"
     ]
    }
   ],
   "source": [
    "print(y)"
   ]
  },
  {
   "cell_type": "code",
   "execution_count": 44,
   "metadata": {},
   "outputs": [],
   "source": [
    "# Split into training and testing sets (80% train, 20% test)\n",
    "X_train, X_test, y_train, y_test = train_test_split(X, y, test_size=0.2, random_state=42)\n",
    "\n",
    "# Vectorize the text data using TF-IDF\n",
    "vectorizer = TfidfVectorizer(stop_words='english', max_features=3000)\n",
    "X_train_tfidf = vectorizer.fit_transform(X_train)\n",
    "X_test_tfidf = vectorizer.transform(X_test)"
   ]
  },
  {
   "cell_type": "code",
   "execution_count": 45,
   "metadata": {},
   "outputs": [
    {
     "name": "stdout",
     "output_type": "stream",
     "text": [
      "Training data shape after TF-IDF: (4457, 3000)\n",
      "Testing data shape after TF-IDF: (1115, 3000)\n"
     ]
    }
   ],
   "source": [
    "print(f\"Training data shape after TF-IDF: {X_train_tfidf.shape}\")\n",
    "print(f\"Testing data shape after TF-IDF: {X_test_tfidf.shape}\")"
   ]
  },
  {
   "cell_type": "code",
   "execution_count": 46,
   "metadata": {},
   "outputs": [
    {
     "name": "stdout",
     "output_type": "stream",
     "text": [
      "<Compressed Sparse Row sparse matrix of dtype 'float64'\n",
      "\twith 29947 stored elements and shape (4457, 3000)>\n",
      "  Coords\tValues\n",
      "  (0, 2084)\t0.23837149815751218\n",
      "  (0, 2899)\t0.2728918500894947\n",
      "  (0, 76)\t0.2986941661700567\n",
      "  (0, 2881)\t0.3201420180066482\n",
      "  (0, 2936)\t0.30489377517045985\n",
      "  (0, 761)\t0.3809108381169735\n",
      "  (0, 2224)\t0.220420656710453\n",
      "  (0, 2448)\t0.23837149815751218\n",
      "  (0, 273)\t0.3980992162978338\n",
      "  (0, 953)\t0.3065688134464988\n",
      "  (0, 2234)\t0.28473322471630075\n",
      "  (1, 1290)\t0.2926668657093388\n",
      "  (1, 2378)\t0.35396518723942244\n",
      "  (1, 2677)\t0.3166917055325798\n",
      "  (1, 886)\t0.23624769509144955\n",
      "  (1, 2152)\t0.39380872453276744\n",
      "  (1, 1311)\t0.22578290176521376\n",
      "  (1, 935)\t0.37005777987647276\n",
      "  (1, 1506)\t0.2657720689420296\n",
      "  (1, 1463)\t0.20790448603148223\n",
      "  (1, 984)\t0.41962254886121714\n",
      "  (2, 692)\t0.5021760620862613\n",
      "  (2, 2563)\t0.5550623708560215\n",
      "  (2, 2649)\t0.6631176118361115\n",
      "  (3, 1292)\t0.19570264880521462\n",
      "  :\t:\n",
      "  (4451, 622)\t0.3289459744736164\n",
      "  (4451, 1458)\t0.3222833452878481\n",
      "  (4452, 840)\t0.35748953825325475\n",
      "  (4452, 1233)\t0.30649454566027207\n",
      "  (4452, 1294)\t0.3522053029491627\n",
      "  (4452, 2924)\t0.5300904462257413\n",
      "  (4452, 933)\t0.610915597210172\n",
      "  (4453, 2377)\t0.5975612693457145\n",
      "  (4453, 1531)\t0.5244851817485772\n",
      "  (4453, 1480)\t0.6064947019588055\n",
      "  (4454, 1151)\t0.38087861810984514\n",
      "  (4454, 1286)\t0.3182708584577292\n",
      "  (4454, 2035)\t0.4079234999314281\n",
      "  (4454, 1927)\t0.43410473161397095\n",
      "  (4454, 2382)\t0.4465347909835087\n",
      "  (4454, 2381)\t0.4465347909835087\n",
      "  (4455, 2649)\t0.40745931976870786\n",
      "  (4455, 1753)\t0.4924788339394118\n",
      "  (4455, 1432)\t0.5541750775894743\n",
      "  (4455, 2233)\t0.5332274226200294\n",
      "  (4456, 1439)\t0.28465661673339043\n",
      "  (4456, 840)\t0.37193828142941304\n",
      "  (4456, 2179)\t0.38820852680619006\n",
      "  (4456, 2533)\t0.5707517864841973\n",
      "  (4456, 2364)\t0.551515243032592\n"
     ]
    }
   ],
   "source": [
    "print(X_train_tfidf)"
   ]
  },
  {
   "cell_type": "code",
   "execution_count": 47,
   "metadata": {},
   "outputs": [
    {
     "name": "stdout",
     "output_type": "stream",
     "text": [
      "<Compressed Sparse Row sparse matrix of dtype 'float64'\n",
      "\twith 6924 stored elements and shape (1115, 3000)>\n",
      "  Coords\tValues\n",
      "  (0, 660)\t0.38114337679240273\n",
      "  (0, 770)\t0.3944374447652898\n",
      "  (0, 823)\t0.3292593252139578\n",
      "  (0, 1276)\t0.4392579328937267\n",
      "  (0, 1515)\t0.41223620313833464\n",
      "  (0, 1569)\t0.37052826852389337\n",
      "  (0, 1830)\t0.3009314019684027\n",
      "  (1, 525)\t0.37034060973735533\n",
      "  (1, 734)\t0.3578586983359201\n",
      "  (1, 1347)\t0.3234324946551934\n",
      "  (1, 1548)\t0.3234324946551934\n",
      "  (1, 2045)\t0.387052012561607\n",
      "  (1, 2579)\t0.2204999931204713\n",
      "  (1, 2626)\t0.326271353777915\n",
      "  (1, 2795)\t0.2493471978387002\n",
      "  (1, 2877)\t0.3981347747267476\n",
      "  (2, 502)\t0.5530689808395817\n",
      "  (2, 903)\t0.37140936745963093\n",
      "  (2, 1228)\t0.19302212472396826\n",
      "  (2, 1233)\t0.19302212472396826\n",
      "  (2, 1374)\t0.35262312595844614\n",
      "  (2, 1659)\t0.37140936745963093\n",
      "  (2, 2123)\t0.38473841792677693\n",
      "  (2, 2593)\t0.2671012270734155\n",
      "  (3, 886)\t0.345541635127022\n",
      "  :\t:\n",
      "  (1110, 823)\t0.21105221364350785\n",
      "  (1110, 906)\t0.28156031431289125\n",
      "  (1110, 932)\t0.4092710836282083\n",
      "  (1110, 1085)\t0.19924209877803084\n",
      "  (1110, 1233)\t0.14125797574227678\n",
      "  (1110, 1508)\t0.20237422210269104\n",
      "  (1110, 1571)\t0.2002543300376491\n",
      "  (1110, 1709)\t0.4814738653106317\n",
      "  (1110, 1797)\t0.2189734459141983\n",
      "  (1110, 1943)\t0.212495292238286\n",
      "  (1110, 2394)\t0.19207719293672126\n",
      "  (1110, 2834)\t0.1854939004818103\n",
      "  (1110, 2861)\t0.33961523750969264\n",
      "  (1111, 576)\t0.4325555054026121\n",
      "  (1111, 919)\t0.36365496598104324\n",
      "  (1111, 924)\t0.4088782922446393\n",
      "  (1111, 1288)\t0.45132488164412626\n",
      "  (1111, 1440)\t0.42134339857243075\n",
      "  (1111, 2845)\t0.36365496598104324\n",
      "  (1112, 1655)\t0.5834595274323432\n",
      "  (1112, 2582)\t0.6915319001748619\n",
      "  (1112, 2981)\t0.42586219706493245\n",
      "  (1113, 564)\t0.5968782232979806\n",
      "  (1113, 606)\t0.48856109936052156\n",
      "  (1113, 2222)\t0.6364310164851212\n"
     ]
    }
   ],
   "source": [
    "print(X_test_tfidf)"
   ]
  },
  {
   "cell_type": "code",
   "execution_count": 48,
   "metadata": {},
   "outputs": [],
   "source": [
    "# Use the best parameters found from tuning\n",
    "best_n_iters = 1000\n",
    "best_alpha = 0.1"
   ]
  },
  {
   "cell_type": "code",
   "execution_count": 49,
   "metadata": {},
   "outputs": [],
   "source": [
    "# --- Train and Evaluate Custom Naive Bayes with Best Params ---\n",
    "best_custom_nb_model = NaiveBayesModel(alpha=best_alpha)\n",
    "best_custom_nb_model.fit(X_train_tfidf, y_train)\n",
    "y_pred_best_nb = best_custom_nb_model.predict(X_test_tfidf)"
   ]
  },
  {
   "cell_type": "code",
   "execution_count": 50,
   "metadata": {},
   "outputs": [
    {
     "name": "stdout",
     "output_type": "stream",
     "text": [
      "\n",
      "Custom Naive Bayes Accuracy: 98.65%\n",
      "Custom Naive Bayes Classification Report:\n",
      "              precision    recall  f1-score   support\n",
      "\n",
      "           0       0.99      0.99      0.99       966\n",
      "           1       0.97      0.93      0.95       149\n",
      "\n",
      "    accuracy                           0.99      1115\n",
      "   macro avg       0.98      0.96      0.97      1115\n",
      "weighted avg       0.99      0.99      0.99      1115\n",
      "\n"
     ]
    }
   ],
   "source": [
    "# Evaluate custom Naive Bayes model\n",
    "accuracy_best_nb = accuracy_score(y_test, y_pred_best_nb)\n",
    "print(f\"\\nCustom Naive Bayes Accuracy: {accuracy_best_nb * 100:.2f}%\")\n",
    "print(\"Custom Naive Bayes Classification Report:\")\n",
    "print(classification_report(y_test, y_pred_best_nb))\n"
   ]
  },
  {
   "cell_type": "code",
   "execution_count": 51,
   "metadata": {},
   "outputs": [
    {
     "name": "stdout",
     "output_type": "stream",
     "text": [
      "Scikit-learn Naive Bayes Accuracy: 98.39%\n",
      "Scikit-learn Naive Bayes Classification Report:\n",
      "              precision    recall  f1-score   support\n",
      "\n",
      "           0       0.98      1.00      0.99       966\n",
      "           1       0.99      0.89      0.94       149\n",
      "\n",
      "    accuracy                           0.98      1115\n",
      "   macro avg       0.99      0.94      0.96      1115\n",
      "weighted avg       0.98      0.98      0.98      1115\n",
      "\n"
     ]
    }
   ],
   "source": [
    "# --- Scikit-learn Naive Bayes Implementation ---\n",
    "sklearn_nb_model = MultinomialNB()\n",
    "sklearn_nb_model.fit(X_train_tfidf, y_train)\n",
    "y_pred_sklearn_nb = sklearn_nb_model.predict(X_test_tfidf)\n",
    "\n",
    "# Evaluate Scikit-learn Naive Bayes model\n",
    "accuracy_sklearn_nb = accuracy_score(y_test, y_pred_sklearn_nb)\n",
    "print(f\"Scikit-learn Naive Bayes Accuracy: {accuracy_sklearn_nb * 100:.2f}%\")\n",
    "print(\"Scikit-learn Naive Bayes Classification Report:\")\n",
    "print(classification_report(y_test, y_pred_sklearn_nb))\n"
   ]
  }
 ],
 "metadata": {
  "kernelspec": {
   "display_name": "Python 3",
   "language": "python",
   "name": "python3"
  },
  "language_info": {
   "codemirror_mode": {
    "name": "ipython",
    "version": 3
   },
   "file_extension": ".py",
   "mimetype": "text/x-python",
   "name": "python",
   "nbconvert_exporter": "python",
   "pygments_lexer": "ipython3",
   "version": "3.12.2"
  }
 },
 "nbformat": 4,
 "nbformat_minor": 2
}
