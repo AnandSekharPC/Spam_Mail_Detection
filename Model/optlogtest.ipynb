{
 "cells": [
  {
   "cell_type": "code",
   "execution_count": 2,
   "metadata": {},
   "outputs": [],
   "source": [
    "# Importing necessary libraries\n",
    "import numpy as np\n",
    "import pandas as pd\n",
    "from sklearn.preprocessing import StandardScaler\n",
    "from sklearn.model_selection import train_test_split\n",
    "from sklearn.feature_extraction.text import TfidfVectorizer\n",
    "from sklearn.metrics import accuracy_score, classification_report\n",
    "from scipy.sparse import csr_matrix\n"
   ]
  },
  {
   "cell_type": "code",
   "execution_count": 3,
   "metadata": {},
   "outputs": [
    {
     "name": "stdout",
     "output_type": "stream",
     "text": [
      "Category    0\n",
      "Message     0\n",
      "dtype: int64\n",
      "Data split completed!\n"
     ]
    }
   ],
   "source": [
    "# Load dataset\n",
    "file_path = r'C:\\Users\\anand\\Downloads\\minorprjct\\Data_set\\mail_data.csv'\n",
    "mail_data = pd.read_csv(file_path)\n",
    "\n",
    "# Check for missing values\n",
    "print(mail_data.isnull().sum())\n",
    "\n",
    "# Convert 'Category' labels to 0 and 1 (ham: 0, spam: 1)\n",
    "mail_data['Category'] = mail_data['Category'].map({'ham': 0, 'spam': 1})\n",
    "\n",
    "# Split data into features and target\n",
    "X = mail_data['Message']\n",
    "y = mail_data['Category']\n",
    "\n",
    "# Split into training and testing sets (80% train, 20% test)\n",
    "X_train, X_test, y_train, y_test = train_test_split(X, y, test_size=0.2, random_state=42)\n",
    "\n",
    "print(\"Data split completed!\")\n",
    "\n",
    "# Vectorize the text data using TF-IDF\n",
    "vectorizer = TfidfVectorizer(stop_words='english', max_features=3000)\n",
    "X_train_tfidf = vectorizer.fit_transform(X_train)\n",
    "X_test_tfidf = vectorizer.transform(X_test)\n"
   ]
  },
  {
   "cell_type": "code",
   "execution_count": 4,
   "metadata": {},
   "outputs": [
    {
     "name": "stdout",
     "output_type": "stream",
     "text": [
      "Training data shape after TF-IDF: (4457, 3000)\n",
      "Testing data shape after TF-IDF: (1115, 3000)\n"
     ]
    }
   ],
   "source": [
    "print(f\"Training data shape after TF-IDF: {X_train_tfidf.shape}\")\n",
    "print(f\"Testing data shape after TF-IDF: {X_test_tfidf.shape}\")"
   ]
  },
  {
   "cell_type": "code",
   "execution_count": 5,
   "metadata": {},
   "outputs": [
    {
     "name": "stdout",
     "output_type": "stream",
     "text": [
      "Scaled training data shape: (4457, 3000)\n"
     ]
    }
   ],
   "source": [
    "# Function to preprocess sparse data using StandardScaler\n",
    "def preprocess_data(data):\n",
    "    scaler = StandardScaler(with_mean=False)  # Avoid dense conversion for sparse data\n",
    "    scaled_data = scaler.fit_transform(data)\n",
    "    return scaled_data\n",
    "\n",
    "# Example: Scaling the TF-IDF data\n",
    "X_train_scaled = preprocess_data(X_train_tfidf)\n",
    "X_test_scaled = preprocess_data(X_test_tfidf)\n",
    "\n",
    "print(f\"Scaled training data shape: {X_train_scaled.shape}\")\n"
   ]
  },
  {
   "cell_type": "code",
   "execution_count": 6,
   "metadata": {},
   "outputs": [],
   "source": [
    "class LogisticRegressionModel:\n",
    "    def __init__(self, learning_rate=0.01, n_iters=1000):\n",
    "        self.learning_rate = learning_rate\n",
    "        self.n_iters = n_iters\n",
    "        self.weights = None\n",
    "        self.bias = None\n",
    "\n",
    "    def initialize_parameters(self, n_features):\n",
    "        self.weights = np.zeros(n_features)\n",
    "        self.bias = 0\n",
    "\n",
    "    def sigmoid(self, z):\n",
    "        return 1 / (1 + np.exp(-z))\n",
    "\n",
    "    def update_weights(self, X, y, predictions):\n",
    "        dw = np.dot(X.T, (predictions - y)) / len(y)\n",
    "        db = np.sum(predictions - y) / len(y)\n",
    "\n",
    "        self.weights -= self.learning_rate * dw\n",
    "        self.bias -= self.learning_rate * db\n",
    "\n",
    "    def predict(self, X):\n",
    "        linear_model = np.dot(X, self.weights) + self.bias\n",
    "        predictions = self.sigmoid(linear_model)\n",
    "        return predictions\n",
    "\n",
    "    def train(self, X, y):\n",
    "        n_samples, n_features = X.shape\n",
    "        self.initialize_parameters(n_features)\n",
    "\n",
    "        for _ in range(self.n_iters):\n",
    "            predictions = self.predict(X)\n",
    "            self.update_weights(X, y, predictions)\n",
    "\n",
    "        return self.weights, self.bias\n"
   ]
  },
  {
   "cell_type": "code",
   "execution_count": 7,
   "metadata": {},
   "outputs": [
    {
     "name": "stdout",
     "output_type": "stream",
     "text": [
      "Custom Logistic Regression Accuracy: 98.83%\n",
      "              precision    recall  f1-score   support\n",
      "\n",
      "           0       0.99      1.00      0.99       966\n",
      "           1       0.99      0.92      0.95       149\n",
      "\n",
      "    accuracy                           0.99      1115\n",
      "   macro avg       0.99      0.96      0.97      1115\n",
      "weighted avg       0.99      0.99      0.99      1115\n",
      "\n"
     ]
    }
   ],
   "source": [
    "# Convert sparse matrix to dense for custom implementation\n",
    "X_train_dense = X_train_scaled.toarray()\n",
    "X_test_dense = X_test_scaled.toarray()\n",
    "\n",
    "# Instantiate the model and train\n",
    "model = LogisticRegressionModel(learning_rate=0.01, n_iters=1000)\n",
    "model.train(X_train_dense, y_train)\n",
    "\n",
    "# Predict on the test set\n",
    "y_pred_prob = model.predict(X_test_dense)\n",
    "y_pred = [1 if prob >= 0.5 else 0 for prob in y_pred_prob]\n",
    "\n",
    "# Evaluate the model\n",
    "accuracy = accuracy_score(y_test, y_pred)\n",
    "print(f\"Custom Logistic Regression Accuracy: {accuracy * 100:.2f}%\")\n",
    "print(classification_report(y_test, y_pred))\n"
   ]
  },
  {
   "cell_type": "code",
   "execution_count": 8,
   "metadata": {},
   "outputs": [
    {
     "name": "stdout",
     "output_type": "stream",
     "text": [
      "Sklearn Logistic Regression Accuracy: 97.49%\n",
      "              precision    recall  f1-score   support\n",
      "\n",
      "           0       0.97      1.00      0.99       966\n",
      "           1       1.00      0.81      0.90       149\n",
      "\n",
      "    accuracy                           0.97      1115\n",
      "   macro avg       0.99      0.91      0.94      1115\n",
      "weighted avg       0.98      0.97      0.97      1115\n",
      "\n"
     ]
    }
   ],
   "source": [
    "# Train a logistic regression model using Scikit-learn\n",
    "from sklearn.linear_model import LogisticRegression\n",
    "\n",
    "sklearn_model = LogisticRegression()\n",
    "sklearn_model.fit(X_train_tfidf, y_train)\n",
    "\n",
    "# Predict using Scikit-learn's model\n",
    "y_pred_sklearn = sklearn_model.predict(X_test_tfidf)\n",
    "\n",
    "# Evaluate the model\n",
    "accuracy_sklearn = accuracy_score(y_test, y_pred_sklearn)\n",
    "print(f\"Sklearn Logistic Regression Accuracy: {accuracy_sklearn * 100:.2f}%\")\n",
    "print(classification_report(y_test, y_pred_sklearn))\n"
   ]
  }
 ],
 "metadata": {
  "kernelspec": {
   "display_name": "Python 3",
   "language": "python",
   "name": "python3"
  },
  "language_info": {
   "codemirror_mode": {
    "name": "ipython",
    "version": 3
   },
   "file_extension": ".py",
   "mimetype": "text/x-python",
   "name": "python",
   "nbconvert_exporter": "python",
   "pygments_lexer": "ipython3",
   "version": "3.12.2"
  }
 },
 "nbformat": 4,
 "nbformat_minor": 2
}
